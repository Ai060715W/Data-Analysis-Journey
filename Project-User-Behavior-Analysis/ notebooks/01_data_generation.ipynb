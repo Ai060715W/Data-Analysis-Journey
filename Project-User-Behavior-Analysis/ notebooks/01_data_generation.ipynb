import pandas as pd
import numpy as np
from datetime import datetime, timedelta

# 设置随机种子以保证结果可重现
np.random.seed(42)

# 定义基本参数
num_users = 1000  # 模拟1000个用户
num_books = 500   # 模拟500本书
days = 30         # 模拟30天的数据
events_per_day = 5000 # 每天大约5000条阅读行为记录

# 生成书籍数据
book_categories = ['都市', '玄幻', '言情', '悬疑', '科幻', '历史', '武侠']
book_ids = [f'book_{i:03d}' for i in range(1, num_books+1)]
books_df = pd.DataFrame({
    'book_id': book_ids,
    'category': np.random.choice(book_categories, size=num_books, p=[0.25, 0.2, 0.2, 0.15, 0.1, 0.05, 0.05]) # 设置不同类别的概率
})

# 生成用户数据
user_ids = [f'user_{i:04d}' for i in range(1, num_users+1)]

# 生成时间序列（过去30天）
base_date = datetime.now() - timedelta(days=days)
timestamps = [base_date + timedelta(days=i, seconds=j) for i in range(days) for j in np.random.randint(0, 86400, size=events_per_day)]

# 确保数据量一致
num_records = len(timestamps)
print(f"Generating {num_records} records...")

# 生成行为数据
action_types = ['click', 'read', 'finish']
action_weights = [0.6, 0.35, 0.05]  # 点击权重最高，完读权重低

data = {
    'user_id': np.random.choice(user_ids, size=num_records),
    'book_id': np.random.choice(book_ids, size=num_records),
    'timestamp': timestamps,
    'action_type': np.random.choice(action_types, size=num_records, p=action_weights),
}

df = pd.DataFrame(data)

# 合并书籍类别信息
df = df.merge(books_df, on='book_id', how='left')

# 为不同的行为生成合理的阅读时长
def generate_read_time(action, category):
    base_time = 0
    if action == 'click':
        base_time = np.random.randint(1, 30)  # 点击后可能只看1-30秒
    elif action == 'read':
        # 不同类别的阅读时长有不同的分布
        if category in ['玄幻', '科幻']:
            base_time = np.random.randint(5, 60)
        elif category in ['言情', '都市']:
            base_time = np.random.randint(3, 40)
        else:
            base_time = np.random.randint(2, 30)
    elif action == 'finish':
        base_time = np.random.randint(300, 1800)  # 完读时长较长，5-30分钟
    return base_time

# 应用函数生成阅读时长
df['read_time'] = df.apply(lambda row: generate_read_time(row['action_type'], row['category']), axis=1)

# 调整时间戳的格式
df['timestamp'] = pd.to_datetime(df['timestamp'])

# 打乱数据顺序
df = df.sample(frac=1).reset_index(drop=True)

# 显示数据前5行
print("Data Sample:")
print(df.head())

# 显示数据基本信息
print("\nData Info:")
print(df.info())

# 保存生成的数据到CSV文件
output_path = '../data/user_behavior_data.csv'
df.to_csv(output_path, index=False, encoding='utf-8-sig') # 使用utf-8-sig编码保证中文正常显示

print(f"\nData generation completed! File saved to: {output_path}")
print(f"Total records: {len(df)}")
